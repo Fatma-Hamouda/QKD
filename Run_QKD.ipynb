{
 "cells": [
  {
   "cell_type": "markdown",
   "metadata": {},
   "source": [
    "# encryption and decryption Using BB84 and AES"
   ]
  },
  {
   "cell_type": "code",
   "execution_count": 37,
   "metadata": {},
   "outputs": [
    {
     "name": "stdout",
     "output_type": "stream",
     "text": [
      "Requirement already satisfied: pycryptodome in c:\\users\\dell\\appdata\\local\\programs\\python\\python312\\lib\\site-packages (3.20.0)\n"
     ]
    }
   ],
   "source": [
    "# Libraries\n",
    "! pip install cirq --quiet\n",
    "! pip install pycryptodome"
   ]
  },
  {
   "cell_type": "code",
   "execution_count": 44,
   "metadata": {},
   "outputs": [],
   "source": [
    "from QKD_key_generator import generate_QKD_key\n",
    "from Conversion import bits_to_bytes\n",
    "from Padding import pad_key_bits\n",
    "from Encryption_AES import encryption\n",
    "from Decryption_AES import decryption"
   ]
  },
  {
   "cell_type": "code",
   "execution_count": 40,
   "metadata": {},
   "outputs": [
    {
     "name": "stdout",
     "output_type": "stream",
     "text": [
      "\n",
      "\n",
      "We can use our keys!\n",
      "\n",
      "The shared Key:  [1, 1, 0, 1, 1, 0, 1, 1, 1, 0, 1, 0, 0, 0, 0, 1, 0, 1, 1, 1, 1, 0, 0, 1, 1, 0, 0, 1, 1, 0, 1, 0, 0, 1, 1, 0, 0, 0, 0, 1, 0, 0, 1, 0, 1, 1, 0, 0, 0]\n",
      "The Orginal Message: Once I'll invade the world!!!\n",
      "The encrypted message:  2c553d7d8bc7dc28645c73614070b58cf85581fb80ddfb50238589f4bad14325\n",
      "The decrypted message:  Once I'll invade the world!!!\n"
     ]
    }
   ],
   "source": [
    "if __name__ == \"__main__\":\n",
    "\n",
    "  shared_key = generate_QKD_key()\n",
    "  while True:\n",
    "    key_length = int(input(\"Enter the desired key length (128 or 192 or 256 bits): \"))\n",
    "    if key_length in [128, 192, 256]:\n",
    "      break\n",
    "    else:\n",
    "      print(\"Invalid key length. Please enter either 128 or 192 or 256 bits.\")\n",
    "\n",
    "  padded_key_bits = pad_key_bits(shared_key, key_length)\n",
    "  key_bytes = bits_to_bytes(padded_key_bits)\n",
    "  message = input(\"Enter the message that you want to sent: \")\n",
    "  print(\"The Orginal Message: \" + message)\n",
    "\n",
    "  cipher_text = encryption(message, key_bytes)\n",
    "  print(\"The encrypted message: \", cipher_text)\n",
    "\n",
    "  plain_text = decryption(cipher_text, key_bytes)\n",
    "  print(\"The decrypted message: \", plain_text)"
   ]
  }
 ],
 "metadata": {
  "kernelspec": {
   "display_name": "Python 3",
   "language": "python",
   "name": "python3"
  },
  "language_info": {
   "codemirror_mode": {
    "name": "ipython",
    "version": 3
   },
   "file_extension": ".py",
   "mimetype": "text/x-python",
   "name": "python",
   "nbconvert_exporter": "python",
   "pygments_lexer": "ipython3",
   "version": "3.12.4"
  }
 },
 "nbformat": 4,
 "nbformat_minor": 2
}
